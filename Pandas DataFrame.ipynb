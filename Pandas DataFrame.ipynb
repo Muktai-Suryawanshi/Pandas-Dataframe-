{
 "cells": [
  {
   "cell_type": "code",
   "execution_count": 1,
   "metadata": {},
   "outputs": [
    {
     "name": "stdout",
     "output_type": "stream",
     "text": [
      "Empty DataFrame\n",
      "Columns: []\n",
      "Index: []\n"
     ]
    }
   ],
   "source": [
    "import pandas as pd\n",
    "\n",
    "df = pd.DataFrame()\n",
    "\n",
    "print(df)"
   ]
  },
  {
   "cell_type": "code",
   "execution_count": 2,
   "metadata": {},
   "outputs": [
    {
     "name": "stdout",
     "output_type": "stream",
     "text": [
      "    0\n",
      "0  10\n",
      "1  20\n",
      "2  30\n",
      "3  40\n",
      "4  50\n",
      "5  60\n"
     ]
    }
   ],
   "source": [
    "import pandas as pd\n",
    "\n",
    "i = [10,20,30,40,50,60]\n",
    "\n",
    "df = pd.DataFrame(i)\n",
    "\n",
    "print(df)"
   ]
  },
  {
   "cell_type": "code",
   "execution_count": 3,
   "metadata": {},
   "outputs": [
    {
     "name": "stdout",
     "output_type": "stream",
     "text": [
      "   0\n",
      "0  1\n",
      "1  2\n",
      "2  3\n",
      "3  4\n",
      "4  5\n",
      "5  6\n",
      "6  7\n",
      "7  8\n"
     ]
    }
   ],
   "source": [
    "import pandas as pd\n",
    "\n",
    "i = [1,2,3,4,5,6,7,8]\n",
    "\n",
    "df = pd.DataFrame(i)\n",
    "\n",
    "print(df)"
   ]
  },
  {
   "cell_type": "code",
   "execution_count": 4,
   "metadata": {},
   "outputs": [
    {
     "name": "stdout",
     "output_type": "stream",
     "text": [
      "        0\n",
      "0  Item 1\n",
      "1  Item 2\n",
      "2  Item 3\n",
      "3  Item 4\n"
     ]
    }
   ],
   "source": [
    "import pandas as pd\n",
    "\n",
    "i =[\"Item 1\",\"Item 2\",\"Item 3\",\"Item 4\"]\n",
    "\n",
    "df = pd.DataFrame(i)\n",
    "\n",
    "print(df)"
   ]
  },
  {
   "cell_type": "code",
   "execution_count": 11,
   "metadata": {},
   "outputs": [
    {
     "name": "stdout",
     "output_type": "stream",
     "text": [
      "       0\n",
      "0  demo1\n",
      "1  demo2\n",
      "2  demo3\n",
      "3  demo4\n",
      "4     10\n",
      "5     20\n",
      "6    3.4\n",
      "7     67\n"
     ]
    }
   ],
   "source": [
    "import pandas as pd\n",
    "\n",
    "i =[\"demo1\",\"demo2\",\"demo3\",\"demo4\",10,20,3.40,67]\n",
    "\n",
    "df = pd.DataFrame(i)\n",
    "\n",
    "print(df)"
   ]
  },
  {
   "cell_type": "code",
   "execution_count": 14,
   "metadata": {},
   "outputs": [
    {
     "name": "stdout",
     "output_type": "stream",
     "text": [
      "  no    name\n",
      "0  a     aly\n",
      "1  b  jasmin\n",
      "2  c   manju\n"
     ]
    }
   ],
   "source": [
    "import pandas as pd\n",
    "\n",
    "i = {'no':[\"a\",\"b\",\"c\"],'name':['aly','jasmin','manju',]}\n",
    "\n",
    "s = pd.DataFrame(i)\n",
    "\n",
    "print(s)"
   ]
  },
  {
   "cell_type": "code",
   "execution_count": 15,
   "metadata": {},
   "outputs": [
    {
     "name": "stdout",
     "output_type": "stream",
     "text": [
      "   no   name    city\n",
      "0   1  rahul    pune\n",
      "1   2  disha  mumbai\n",
      "2   3    sid  nagpur\n",
      "3   4   sana  nashik\n"
     ]
    }
   ],
   "source": [
    "import pandas as pd\n",
    "\n",
    "i = {'no':[1,2,3,4],'name':['rahul','disha','sid','sana'],'city':['pune','mumbai','nagpur','nashik']}\n",
    "\n",
    "s = pd.DataFrame(i)\n",
    "\n",
    "print(s)"
   ]
  },
  {
   "cell_type": "code",
   "execution_count": 18,
   "metadata": {},
   "outputs": [
    {
     "name": "stdout",
     "output_type": "stream",
     "text": [
      "   no    name    city\n",
      "0   1   krish   latur\n",
      "1   2  hardik    beed\n",
      "2   3  akshay  jaipur\n"
     ]
    }
   ],
   "source": [
    "import pandas as pd\n",
    "\n",
    "i = {'no':[1,2,3],'name':['krish','hardik','akshay'],'city':['latur','beed','jaipur',]}\n",
    "     \n",
    "s = pd.DataFrame(i)\n",
    "     \n",
    "print(s)\n",
    "     "
   ]
  },
  {
   "cell_type": "code",
   "execution_count": 21,
   "metadata": {},
   "outputs": [
    {
     "name": "stdout",
     "output_type": "stream",
     "text": [
      "   no\n",
      "a   1\n",
      "b   2\n",
      "c   3\n",
      "d   4\n",
      "e   5\n"
     ]
    }
   ],
   "source": [
    "import pandas as pd\n",
    "\n",
    "i = {'no':pd.Series([1,2,3,4,5],index=['a','b','c','d','e'])}\n",
    "\n",
    "s = pd.DataFrame(i)\n",
    "\n",
    "print(s)"
   ]
  },
  {
   "cell_type": "code",
   "execution_count": 22,
   "metadata": {},
   "outputs": [
    {
     "name": "stdout",
     "output_type": "stream",
     "text": [
      "     no  no1\n",
      "a   1.0  NaN\n",
      "a1  NaN  4.0\n",
      "b   2.0  NaN\n",
      "b1  NaN  5.0\n",
      "c   3.0  NaN\n",
      "c1  NaN  6.0\n"
     ]
    }
   ],
   "source": [
    "import pandas as pd\n",
    "\n",
    "i = {'no':pd.Series([1,2,3],index=['a','b','c']),\n",
    "    'no1':pd.Series([4,5,6],index=['a1','b1','c1'])}\n",
    "\n",
    "s = pd.DataFrame(i)\n",
    "\n",
    "print(s)"
   ]
  },
  {
   "cell_type": "code",
   "execution_count": null,
   "metadata": {},
   "outputs": [],
   "source": []
  },
  {
   "cell_type": "code",
   "execution_count": null,
   "metadata": {},
   "outputs": [],
   "source": []
  }
 ],
 "metadata": {
  "kernelspec": {
   "display_name": "Python 3",
   "language": "python",
   "name": "python3"
  },
  "language_info": {
   "codemirror_mode": {
    "name": "ipython",
    "version": 3
   },
   "file_extension": ".py",
   "mimetype": "text/x-python",
   "name": "python",
   "nbconvert_exporter": "python",
   "pygments_lexer": "ipython3",
   "version": "3.8.5"
  }
 },
 "nbformat": 4,
 "nbformat_minor": 4
}
